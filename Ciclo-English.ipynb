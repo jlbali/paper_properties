{
 "cells": [
  {
   "cell_type": "code",
   "execution_count": null,
   "id": "e9fc7c06-f80e-40fb-92b1-96d0ac708012",
   "metadata": {},
   "outputs": [],
   "source": [
    "from importlib import reload\n",
    "import src_2_english as src\n",
    "reload(src)"
   ]
  },
  {
   "cell_type": "code",
   "execution_count": null,
   "id": "d6f8ac05-b08d-4ec7-aa21-7cb6bc47a743",
   "metadata": {},
   "outputs": [],
   "source": []
  },
  {
   "cell_type": "code",
   "execution_count": null,
   "id": "5c9de480-2a5c-4650-8728-b66bc7132d1b",
   "metadata": {},
   "outputs": [],
   "source": [
    "## STEP 1 -- Initial Load"
   ]
  },
  {
   "cell_type": "code",
   "execution_count": null,
   "id": "587ba302-d1da-457e-bde8-ac0bd8dda1fa",
   "metadata": {},
   "outputs": [],
   "source": [
    "reload(src)\n",
    "src.initial_load(input_path=\"c:/proyectos/inmuebles/data/raw/FotocasaINE.dta\", output_path=\"./temp_data2/data_buy.pkl\") "
   ]
  },
  {
   "cell_type": "code",
   "execution_count": null,
   "id": "19ceef46-e22c-4b03-b9d2-34ff6bc53273",
   "metadata": {},
   "outputs": [],
   "source": [
    "## STEP 2 -- HANDLING NEIGHBORHOODS\n"
   ]
  },
  {
   "cell_type": "code",
   "execution_count": null,
   "id": "155b21d8-9b49-41a5-b26c-7ba267809a4d",
   "metadata": {},
   "outputs": [],
   "source": [
    "reload(src)\n",
    "src.handle_neighborhood(input_path=\"./temp_data2/data_buy.pkl\", \n",
    "                        shp_path=\"c:/proyectos/inmuebles/data/Madrid/barrios.shp\",\n",
    "                        output_path=\"./temp_data2/data_madrid_barrios.pkl\")"
   ]
  },
  {
   "cell_type": "code",
   "execution_count": null,
   "id": "bc2deef5-a44d-4786-af56-0331a1dbc29d",
   "metadata": {},
   "outputs": [],
   "source": []
  },
  {
   "cell_type": "code",
   "execution_count": null,
   "id": "e6c8fcc3-dd60-404e-b54f-453b4ec19e5f",
   "metadata": {},
   "outputs": [],
   "source": [
    "## STEP 4 -- CLUSTERING\n",
    "reload(src)\n",
    "src.construct_clusters(input_file=\"./temp_data2/data_madrid_barrios.pkl\", \n",
    "                   demo_file='c:/proyectos/inmuebles/data/Madrid/ConsolidadoDemográfico.xlsx', \n",
    "                   output_file=\"./temp_data2/data_madrid_cluster.pkl\")"
   ]
  },
  {
   "cell_type": "code",
   "execution_count": null,
   "id": "f1930e69-e815-4142-a4d5-35dffce36209",
   "metadata": {},
   "outputs": [],
   "source": []
  },
  {
   "cell_type": "code",
   "execution_count": null,
   "id": "94ea7773-48dc-442f-a6bb-dac684ee9fa5",
   "metadata": {},
   "outputs": [],
   "source": [
    "## STEP 5 - SUPPLY SIDE CALIB\n",
    "reload(src)\n",
    "src.supply_side_calib(input_file=\"./temp_data2/data_madrid_cluster.pkl\", \n",
    "                      output_file=\"./temp_data2/data_Madrid_probs_propietario.pkl\", \n",
    "                      cluster_stats_file=\"./temp_data2/clusters_stats.pkl\")\n"
   ]
  },
  {
   "cell_type": "code",
   "execution_count": null,
   "id": "07bca786-c91f-41b2-9554-b844216d6bde",
   "metadata": {},
   "outputs": [],
   "source": []
  },
  {
   "cell_type": "code",
   "execution_count": null,
   "id": "2f3efe39-9e0e-4151-bfae-f90646f5137c",
   "metadata": {},
   "outputs": [],
   "source": [
    "# INCOME HANDLING (PRE-DEMAND)\n",
    "reload(src)\n",
    "src.income_handling(input_file=\"./temp_data2/data_madrid_cluster.pkl\", \n",
    "                    demo_file='c:/proyectos/inmuebles/data/Madrid/ConsolidadoDemográfico.xlsx', \n",
    "                    income_file=\"./temp_data2/ingresos.pkl\", thetas_file=\"./temp_data2/thetas.pkl\")\n"
   ]
  },
  {
   "cell_type": "code",
   "execution_count": null,
   "id": "e9a9a86b-1db3-49f3-be1a-ea0fb84e64e6",
   "metadata": {},
   "outputs": [],
   "source": []
  },
  {
   "cell_type": "code",
   "execution_count": null,
   "id": "ed2f41d5-bc48-40a3-9bc5-675e531603e2",
   "metadata": {},
   "outputs": [],
   "source": [
    "reload(src)\n",
    "src.demand_side_calib(input_file=\"./temp_data2/data_Madrid_probs_propietario.pkl\", \n",
    "                      demo_file='c:/proyectos/inmuebles/data/Madrid/ConsolidadoDemográfico.xlsx', \n",
    "                      input_file_cluster=\"./temp_data2/data_madrid_cluster.pkl\", \n",
    "                      income_file=\"./temp_data2/ingresos.pkl\", \n",
    "                      thetas_file=\"./temp_data2/thetas.pkl\", \n",
    "                      cluster_stats_file=\"./temp_data2/clusters_stats.pkl\", \n",
    "                      output_file=\"./temp_data2/data_madrid_probs_v2.pkl\")"
   ]
  },
  {
   "cell_type": "code",
   "execution_count": null,
   "id": "a49570db-9af0-4f71-9349-220fa097f38a",
   "metadata": {},
   "outputs": [],
   "source": []
  },
  {
   "cell_type": "code",
   "execution_count": null,
   "id": "3ae5708b-9d75-45e9-9354-8c6a1a949b90",
   "metadata": {},
   "outputs": [],
   "source": [
    "## STEP 7 - INVESTOR PROBLEM\n",
    "reload(src)\n",
    "src.investor_problem(input_file=\"./temp_data2/data_madrid_probs_v2.pkl\", \n",
    "                     prob_file=\"./temp_data2/data_Madrid_probs_propietario.pkl\" , \n",
    "                     cluster_stats_file=\"./temp_data2/clusters_stats.pkl\",\n",
    "                     output_file=\"./temp_data2/data_ROI.pkl\")"
   ]
  },
  {
   "cell_type": "code",
   "execution_count": null,
   "id": "8b14200a-5d2b-47ca-bfba-1fff166cc937",
   "metadata": {},
   "outputs": [],
   "source": []
  },
  {
   "cell_type": "code",
   "execution_count": null,
   "id": "0908ff9c-c1ef-497a-a307-29ba47648940",
   "metadata": {},
   "outputs": [],
   "source": []
  },
  {
   "cell_type": "code",
   "execution_count": null,
   "id": "778ee29b-ef54-4627-b9e3-7687de890d38",
   "metadata": {},
   "outputs": [],
   "source": []
  },
  {
   "cell_type": "code",
   "execution_count": null,
   "id": "ad79ae17-cb13-4eaa-a9c7-62bccf9b58b8",
   "metadata": {},
   "outputs": [],
   "source": []
  }
 ],
 "metadata": {
  "kernelspec": {
   "display_name": "Python 3 (ipykernel)",
   "language": "python",
   "name": "python3"
  },
  "language_info": {
   "codemirror_mode": {
    "name": "ipython",
    "version": 3
   },
   "file_extension": ".py",
   "mimetype": "text/x-python",
   "name": "python",
   "nbconvert_exporter": "python",
   "pygments_lexer": "ipython3",
   "version": "3.12.10"
  }
 },
 "nbformat": 4,
 "nbformat_minor": 5
}
